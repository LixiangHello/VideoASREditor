{
 "cells": [
  {
   "cell_type": "markdown",
   "metadata": {},
   "source": [
    "# 视频添加字幕/翻译字幕\n"
   ]
  },
  {
   "cell_type": "markdown",
   "metadata": {},
   "source": [
    "## 一、提取音频\n"
   ]
  },
  {
   "cell_type": "code",
   "execution_count": null,
   "metadata": {},
   "outputs": [],
   "source": [
    "from moviepy.editor import VideoFileClip\n",
    "from IPython.display import clear_output\n",
    "\n",
    "\n",
    "def extract_audio_from_video(video_path, audio_path):\n",
    "    video = VideoFileClip(video_path)\n",
    "    audio = video.audio\n",
    "    audio.write_audiofile(audio_path, codec=\"pcm_s16le\")\n",
    "    video.close()\n",
    "    audio.close()\n",
    "\n",
    "\n",
    "video_file = \"resources/movie.mp4\"\n",
    "audio_file = \"resources/movie.wav\"\n",
    "extract_audio_from_video(video_file, audio_file)\n",
    "clear_output()"
   ]
  },
  {
   "cell_type": "code",
   "execution_count": null,
   "metadata": {},
   "outputs": [],
   "source": [
    "from IPython.display import display, Audio\n",
    "\n",
    "display(Audio(\"resources/movie.wav\"))"
   ]
  },
  {
   "cell_type": "code",
   "execution_count": null,
   "metadata": {},
   "outputs": [],
   "source": []
  },
  {
   "cell_type": "markdown",
   "metadata": {},
   "source": [
    "## 二、生成字幕|翻译字幕\n"
   ]
  },
  {
   "cell_type": "code",
   "execution_count": 4,
   "metadata": {},
   "outputs": [
    {
     "name": "stdout",
     "output_type": "stream",
     "text": [
      "1\n",
      "00:00:00,080 --> 00:00:01,760\n",
      "you have something you want to tell your father\n",
      "\n",
      "2\n",
      "00:00:01,760 --> 00:00:03,600\n",
      "about school um\n",
      "\n",
      "3\n",
      "00:00:03,840 --> 00:00:05,800\n",
      "well we nice acted a frog\n",
      "\n",
      "4\n",
      "00:00:05,800 --> 00:00:07,680\n",
      "dash got sent to the office again\n",
      "\n",
      "5\n",
      "00:00:07,720 --> 00:00:08,840\n",
      "good good\n",
      "\n",
      "6\n",
      "00:00:08,840 --> 00:00:10,560\n",
      "no Bob that's bad\n",
      "\n",
      "7\n",
      "00:00:10,560 --> 00:00:13,760\n",
      "what dash got sent to the office again what\n",
      "\n",
      "8\n",
      "00:00:13,800 --> 00:00:15,000\n",
      "what for nothing\n",
      "\n",
      "9\n",
      "00:00:15,000 --> 00:00:18,000\n",
      "he put attack on the teacher's chair during class\n",
      "\n",
      "10\n",
      "00:00:18,000 --> 00:00:21,120\n",
      "nobody saw me he could barely see it on the tape\n",
      "\n",
      "11\n",
      "00:00:21,120 --> 00:00:23,240\n",
      "it caught you on tape and you still got away with it\n",
      "\n",
      "12\n",
      "00:00:23,240 --> 00:00:24,040\n",
      "whoa\n",
      "\n",
      "13\n",
      "00:00:24,600 --> 00:00:25,640\n",
      "you must have been booking\n",
      "\n",
      "14\n",
      "00:00:25,640 --> 00:00:27,000\n",
      "how fast you think you were going\n",
      "\n",
      "15\n",
      "00:00:27,000 --> 00:00:28,400\n",
      "we are not encouraging this\n",
      "\n",
      "16\n",
      "00:00:28,400 --> 00:00:31,520\n",
      "I'm not encouraging I'm just asking how fast honey\n",
      "\n"
     ]
    }
   ],
   "source": [
    "from asr_tools import BcutASR, JianYingASR, KuaiShouASR\n",
    "\n",
    "audio_file = \"resources/movie.wav\"\n",
    "asr = JianYingASR(audio_file)\n",
    "result = asr.run()\n",
    "\n",
    "with open(\"resources/movie.srt\", \"w\", encoding=\"utf-8\") as f:\n",
    "    f.write(result.to_srt())\n",
    "\n",
    "print(result.to_srt())"
   ]
  },
  {
   "cell_type": "code",
   "execution_count": 5,
   "metadata": {},
   "outputs": [
    {
     "name": "stdout",
     "output_type": "stream",
     "text": [
      "1\n",
      "00:00:00,000 --> 00:00:02,200\n",
      "You have something you want to ，Tell your father about school \n",
      "\n",
      "2\n",
      "00:00:02,640 --> 00:00:04,720\n",
      "Uh um well we like \n",
      "\n",
      "3\n",
      "00:00:04,720 --> 00:00:06,840\n",
      "Sected a frog daddy ，Got sent to the \n",
      "\n",
      "4\n",
      "00:00:06,840 --> 00:00:14,600\n",
      "Office again good good no bob that's bad what dash got sent to the office again what what for nothing \n",
      "\n",
      "5\n",
      "00:00:14,880 --> 00:00:18,520\n",
      "He put a attack ，On the teacher's chair during class lis \n",
      "\n",
      "6\n",
      "00:00:18,520 --> 00:00:22,880\n",
      "Saw my barely shit on the tape it caught you on tape and you still gone away \n",
      "\n",
      "7\n",
      "00:00:22,880 --> 00:00:24,700\n",
      "With it wow wo you \n",
      "\n",
      "8\n",
      "00:00:24,820 --> 00:00:25,660\n",
      "Must have been booking \n",
      "\n",
      "9\n",
      "00:00:25,660 --> 00:00:31,300\n",
      "How fast you think you were going we are not encouraging this i'm not encouraging i'm just asking how fasting honey \n",
      "\n"
     ]
    }
   ],
   "source": [
    "from asr_tools import BcutASR, JianYingASR, KuaiShouASR\n",
    "\n",
    "audio_file = \"resources/movie.wav\"\n",
    "asr = BcutASR(audio_file)\n",
    "result = asr.run()\n",
    "\n",
    "with open(\"resources/movie.srt\", \"w\", encoding=\"utf-8\") as f:\n",
    "    f.write(result.to_srt())\n",
    "\n",
    "print(result.to_srt())"
   ]
  },
  {
   "cell_type": "code",
   "execution_count": 7,
   "metadata": {},
   "outputs": [
    {
     "name": "stdout",
     "output_type": "stream",
     "text": [
      "1\n",
      "00:00:00,000 --> 00:00:00,002\n",
      "you have something you want to tell your father about uh\n",
      "\n",
      "2\n",
      "00:00:00,002 --> 00:00:00,010\n",
      "um well when like to the frog dad the good no bob that bad\n",
      "\n",
      "3\n",
      "00:00:00,011 --> 00:00:00,013\n",
      "that's got sent to the office again\n",
      "\n",
      "4\n",
      "00:00:00,013 --> 00:00:00,016\n",
      "what four put a tack on the teacher\n",
      "\n",
      "5\n",
      "00:00:00,017 --> 00:00:00,019\n",
      "your class leave saw me\n",
      "\n",
      "6\n",
      "00:00:00,019 --> 00:00:00,021\n",
      "very seed on the tap it cut you want\n",
      "\n",
      "7\n",
      "00:00:00,022 --> 00:00:00,023\n",
      "you still got away when\n",
      "\n",
      "8\n",
      "00:00:00,024 --> 00:00:00,027\n",
      "you must been booking have asking thank you are going we are not\n",
      "\n",
      "9\n",
      "00:00:00,028 --> 00:00:00,031\n",
      "in i'm just asking our\n",
      "\n"
     ]
    }
   ],
   "source": [
    "from asr_tools import BcutASR, JianYingASR, KuaiShouASR\n",
    "\n",
    "audio_file = \"resources/movie.wav\"\n",
    "asr = KuaiShouASR(audio_file)\n",
    "result = asr.run()\n",
    "\n",
    "with open(\"resources/movie.srt\", \"w\", encoding=\"utf-8\") as f:\n",
    "    f.write(result.to_srt())\n",
    "\n",
    "print(result.to_srt())"
   ]
  },
  {
   "cell_type": "markdown",
   "metadata": {},
   "source": [
    "## 三、添加背景音乐\n"
   ]
  },
  {
   "cell_type": "code",
   "execution_count": 14,
   "metadata": {},
   "outputs": [],
   "source": [
    "from pydub import AudioSegment\n",
    "\n",
    "\n",
    "def add_background_music(audio_path, bg_music_path, output_path, bg_music_volume=-20):\n",
    "    # 加载音频和背景音乐\n",
    "    audio = AudioSegment.from_file(audio_path)\n",
    "    bg_music = AudioSegment.from_file(bg_music_path)\n",
    "\n",
    "    # 如果背景音乐比音频长，裁剪背景音乐\n",
    "    if len(bg_music) > len(audio):\n",
    "        bg_music = bg_music[: len(audio)]\n",
    "\n",
    "    # 调整背景音乐的音量\n",
    "    bg_music = bg_music + bg_music_volume\n",
    "\n",
    "    # 将背景音乐叠加到音频上\n",
    "    mixed = audio.overlay(bg_music)\n",
    "\n",
    "    _format = bg_music_path.split(\".\")[-1]\n",
    "    mixed.export(output_path, format=_format)\n",
    "\n",
    "\n",
    "# 示例使用\n",
    "audio_path = \"resources/movie.wav\"\n",
    "bg_music_path = \"resources/background-Spring.mp3\"\n",
    "output_path = \"resources/movie-mix.wav\"\n",
    "\n",
    "add_background_music(audio_path, bg_music_path, output_path)"
   ]
  },
  {
   "cell_type": "code",
   "execution_count": null,
   "metadata": {},
   "outputs": [],
   "source": [
    "from IPython.display import display, Audio\n",
    "\n",
    "display(Audio(\"resources/movie-mix.wav\"))"
   ]
  },
  {
   "cell_type": "code",
   "execution_count": null,
   "metadata": {},
   "outputs": [],
   "source": []
  },
  {
   "cell_type": "markdown",
   "metadata": {},
   "source": [
    "## 四、替换音频/添加字幕\n"
   ]
  },
  {
   "cell_type": "code",
   "execution_count": 2,
   "metadata": {},
   "outputs": [],
   "source": [
    "import pysrt\n",
    "from moviepy.editor import VideoFileClip, AudioFileClip, TextClip, CompositeVideoClip\n",
    "from IPython.display import clear_output\n",
    "\n",
    "clear_output()\n",
    "\n",
    "# import os\n",
    "# os.environ['IMAGEMAGICK_BINARY'] = r'D:\\software\\ImageMagick-7.1.1-Q16-HDRI\\magick.exe'"
   ]
  },
  {
   "cell_type": "code",
   "execution_count": 3,
   "metadata": {},
   "outputs": [],
   "source": [
    "# 1. 加载视频文件\n",
    "video_path = \"resources/movie.mp4\"\n",
    "video_clip = VideoFileClip(video_path)\n",
    "\n",
    "# 2. 加载新的音频文件\n",
    "audio_path = \"resources/movie-mix.mp3\"\n",
    "audio_clip = AudioFileClip(audio_path)\n",
    "\n",
    "# 3. 替换视频中的音频\n",
    "video_with_new_audio = video_clip.set_audio(audio_clip)\n",
    "\n",
    "# 4. 加载字幕文件\n",
    "subs = pysrt.open(\"resources/movie.srt\")\n",
    "\n",
    "# 5. 创建字幕剪辑\n",
    "\n",
    "\n",
    "def time_to_seconds(t):\n",
    "    return t.hour * 3600 + t.minute * 60 + t.second + t.microsecond / 1e6\n",
    "\n",
    "\n",
    "def create_text_clip(sub):\n",
    "    text = sub.text\n",
    "    start_time = time_to_seconds(sub.start.to_time())\n",
    "    end_time = time_to_seconds(sub.end.to_time())\n",
    "    text_clip = TextClip(text, fontsize=24, color=\"white\", bg_color=\"black\")\n",
    "    text_clip = (\n",
    "        text_clip.set_position((\"center\", \"bottom\"))\n",
    "        .set_start(start_time)\n",
    "        .set_end(end_time)\n",
    "    )\n",
    "    return text_clip\n",
    "\n",
    "\n",
    "text_clips = [create_text_clip(sub) for sub in subs]\n",
    "\n",
    "# 6. 将字幕剪辑与视频剪辑合并\n",
    "final_clip = CompositeVideoClip([video_with_new_audio] + text_clips)\n",
    "\n",
    "# 7. 导出最终视频\n",
    "output_path = \"resources/movie-new.mp4\"\n",
    "final_clip.write_videofile(output_path, codec=\"libx264\", audio_codec=\"aac\")\n",
    "\n",
    "# 8. 清理资源\n",
    "video_clip.close()\n",
    "audio_clip.close()\n",
    "final_clip.close()"
   ]
  },
  {
   "cell_type": "code",
   "execution_count": 11,
   "metadata": {},
   "outputs": [
    {
     "name": "stdout",
     "output_type": "stream",
     "text": [
      "Moviepy - Building video resources/movie-new.mp4.\n",
      "MoviePy - Writing audio in movie-newTEMP_MPY_wvf_snd.mp4\n"
     ]
    },
    {
     "name": "stderr",
     "output_type": "stream",
     "text": [
      "                                                                    \r"
     ]
    },
    {
     "name": "stdout",
     "output_type": "stream",
     "text": [
      "MoviePy - Done.\n",
      "Moviepy - Writing video resources/movie-new.mp4\n",
      "\n"
     ]
    },
    {
     "name": "stderr",
     "output_type": "stream",
     "text": [
      "                                                                \r"
     ]
    },
    {
     "name": "stdout",
     "output_type": "stream",
     "text": [
      "Moviepy - Done !\n",
      "Moviepy - video ready resources/movie-new.mp4\n"
     ]
    }
   ],
   "source": []
  },
  {
   "cell_type": "code",
   "execution_count": null,
   "metadata": {},
   "outputs": [],
   "source": []
  },
  {
   "cell_type": "code",
   "execution_count": null,
   "metadata": {},
   "outputs": [],
   "source": []
  }
 ],
 "metadata": {
  "kernelspec": {
   "display_name": "base",
   "language": "python",
   "name": "python3"
  },
  "language_info": {
   "codemirror_mode": {
    "name": "ipython",
    "version": 3
   },
   "file_extension": ".py",
   "mimetype": "text/x-python",
   "name": "python",
   "nbconvert_exporter": "python",
   "pygments_lexer": "ipython3",
   "version": "3.12.4"
  }
 },
 "nbformat": 4,
 "nbformat_minor": 2
}
